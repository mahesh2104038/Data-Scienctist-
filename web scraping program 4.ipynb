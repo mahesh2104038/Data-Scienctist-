{
 "cells": [
  {
   "cell_type": "code",
   "execution_count": 2,
   "id": "b9d75b15",
   "metadata": {},
   "outputs": [],
   "source": [
    "#Write s python program to display list of respected former presidents of India(i.e. Name , Term of office, URL) \n",
    "#from https://presidentofindia.nic.in/former-presidents.htm"
   ]
  },
  {
   "cell_type": "code",
   "execution_count": 15,
   "id": "37d1a08e",
   "metadata": {},
   "outputs": [
    {
     "data": {
      "text/plain": [
       "<Response [200]>"
      ]
     },
     "execution_count": 15,
     "metadata": {},
     "output_type": "execute_result"
    }
   ],
   "source": [
    "import pandas as pd\n",
    "import requests \n",
    "from bs4 import BeautifulSoup \n",
    "page= requests.get('https://presidentofindia.nic.in/former-presidents.htm')\n",
    "soup = BeautifulSoup(page.content)\n",
    "page"
   ]
  },
  {
   "cell_type": "code",
   "execution_count": 16,
   "id": "78af7066",
   "metadata": {},
   "outputs": [
    {
     "data": {
      "text/plain": [
       "<ul class=\"listing cf\">\n",
       "<li><img alt=\"Shri Ram Nath Kovind\" class=\"alignLeft\" src=\"Images/rnk.jpg\" title=\"Shri Ram Nath Kovind\"/>\n",
       "<div class=\"presidentListing\">\n",
       "<h3>Shri Ram Nath Kovind (birth - 1945)</h3>\n",
       "<p><span class=\"terms\">Term of Office:</span> 25 July, 2017 to 25 July, 2022 </p>\n",
       "<p><a href=\"https://ramnathkovind.nic.in\" target=\"_blank\">https://ramnathkovind.nic.in</a></p>\n",
       "</div>\n",
       "</li><li><img alt=\"Shri Pranab Mukherjee\" class=\"alignLeft\" src=\"Images/pranab.jpg\" title=\"Shri Pranab Mukherjee\"/>\n",
       "<div class=\"presidentListing\">\n",
       "<h3>Shri Pranab Mukherjee (1935-2020)</h3>\n",
       "<p><span class=\"terms\">Term of Office:</span> 25 July, 2012 to 25 July, 2017 </p>\n",
       "<p><a href=\"http://pranabmukherjee.nic.in\" target=\"_blank\">http://pranabmukherjee.nic.in</a></p>\n",
       "</div>\n",
       "</li><li><img alt=\"Smt Pratibha Devisingh Patil\" class=\"alignLeft\" src=\"Images/pratibha-patil.jpg\" title=\"Smt Pratibha Devisingh Patil\"/>\n",
       "<div class=\"presidentListing\">\n",
       "<h3>Smt Pratibha Devisingh Patil (birth - 1934)</h3>\n",
       "<p><span class=\"terms\">Term of Office:</span> 25 July, 2007 to 25 July, 2012 </p>\n",
       "<p><a href=\"http://pratibhapatil.nic.in\" target=\"_blank\">http://pratibhapatil.nic.in</a></p>\n",
       "</div>\n",
       "</li><li><img alt=\"DR. A.P.J. Abdul Kalam\" class=\"alignLeft\" src=\"Images/abdul-kalam.jpg\" title=\"DR. A.P.J. Abdul Kalam\"/>\n",
       "<div class=\"presidentListing\">\n",
       "<h3>DR. A.P.J. Abdul Kalam (1931-2015)</h3>\n",
       "<p><span class=\"terms\">Term of Office:</span> 25 July, 2002 to 25 July, 2007 </p>\n",
       "<p><a href=\"http://abdulkalam.nic.in\" target=\"_blank\">http://abdulkalam.nic.in</a></p>\n",
       "</div>\n",
       "</li><li><img alt=\"Shri K. R. Narayanan\" class=\"alignLeft\" src=\"Images/k-r-narayanan.jpg\" title=\"Shri K. R. Narayanan\"/>\n",
       "<div class=\"presidentListing\">\n",
       "<h3>Shri K. R. Narayanan (1920 - 2005)</h3>\n",
       "<p><span class=\"terms\">Term of Office:</span> 25 July, 1997 to 25 July, 2002 </p>\n",
       "</div>\n",
       "</li><li><img alt=\"Dr Shankar Dayal Sharma\" class=\"alignLeft\" src=\"Images/shankar-dayal-sharma.jpg\" title=\"Dr Shankar Dayal Sharma\"/>\n",
       "<div class=\"presidentListing\">\n",
       "<h3>Dr Shankar Dayal Sharma (1918-1999)</h3>\n",
       "<p><span class=\"terms\">Term of Office:</span> 25 July, 1992 to 25 July, 1997 </p>\n",
       "</div>\n",
       "</li><li><img alt=\"Shri R Venkataraman\" class=\"alignLeft\" src=\"Images/venkataraman.jpg\" title=\"Shri R Venkataraman\"/>\n",
       "<div class=\"presidentListing\">\n",
       "<h3>Shri R Venkataraman (1910-2009)</h3>\n",
       "<p><span class=\"terms\">Term of Office:</span> 25 July, 1987 to 25 July, 1992 </p>\n",
       "</div>\n",
       "</li><li><img alt=\"Giani Zail Singh\" class=\"alignLeft\" src=\"Images/giani-zail-singh.jpg\" title=\"Giani Zail Singh\"/>\n",
       "<div class=\"presidentListing\">\n",
       "<h3>Giani Zail Singh (1916-1994)</h3>\n",
       "<p><span class=\"terms\">Term of Office:</span> 25 July, 1982 to 25 July, 1987 </p>\n",
       "</div>\n",
       "</li><li><img alt=\"Shri Neelam Sanjiva Reddy\" class=\"alignLeft\" src=\"Images/neelam-sanjiva-reddy.jpg\" title=\"Shri Neelam Sanjiva Reddy\"/>\n",
       "<div class=\"presidentListing\">\n",
       "<h3>Shri Neelam Sanjiva Reddy (1913-1996)</h3>\n",
       "<p><span class=\"terms\">Term of Office:</span> 25 July, 1977 to 25 July, 1982 </p>\n",
       "</div>\n",
       "</li><li><img alt=\"Dr. Fakhruddin Ali Ahmed\" class=\"alignLeft\" src=\"Images/fakhruddin-ali-ahmed.jpg\" title=\"Dr. Fakhruddin Ali Ahmed\"/>\n",
       "<div class=\"presidentListing\">\n",
       "<h3>Dr. Fakhruddin Ali Ahmed (1905-1977)</h3>\n",
       "<p><span class=\"terms\">Term of Office:</span> 24 August, 1974 to 11 February, 1977</p>\n",
       "</div>\n",
       "</li><li><img alt=\"Shri Varahagiri Venkata Giri\" class=\"alignLeft\" src=\"Images/varahagiri-venkata-giri.jpg\" title=\"Shri Varahagiri Venkata Giri\"/>\n",
       "<div class=\"presidentListing\">\n",
       "<h3>Shri Varahagiri Venkata Giri (1894-1980)</h3>\n",
       "<p><span class=\"terms\">Term of Office:</span> 3 May, 1969 to 20 July, 1969 and 24 August, 1969 to 24 August, 1974</p>\n",
       "</div>\n",
       "</li><li><img alt=\"Dr. Zakir Husain\" class=\"alignLeft\" src=\"Images/zakir-hussion.jpg\" title=\"Dr. Zakir Husain\"/>\n",
       "<div class=\"presidentListing\">\n",
       "<h3>Dr. Zakir Husain (1897-1969)</h3>\n",
       "<p><span class=\"terms\">Term of Office:</span> 13 May, 1967 to 3 May, 1969</p>\n",
       "</div>\n",
       "</li><li><img alt=\"Dr. Sarvepalli Radhakrishnan\" class=\"alignLeft\" src=\"Images/sarvepalli-radhakrishnan.jpg\" title=\"Dr. Sarvepalli Radhakrishnan\"/>\n",
       "<div class=\"presidentListing\">\n",
       "<h3>Dr. Sarvepalli Radhakrishnan (1888-1975)</h3>\n",
       "<p><span class=\"terms\">Term of Office:</span> 13 May, 1962 to 13 May, 1967</p>\n",
       "</div>\n",
       "</li><li class=\"bordNone\"><img alt=\"Dr. Rajendra Prasad\" class=\"alignLeft\" src=\"Images/rajendra-prasad.jpg\" title=\"Dr. Rajendra Prasad\"/>\n",
       "<div class=\"presidentListing\">\n",
       "<h3>Dr. Rajendra Prasad (1884-1963) </h3>\n",
       "<p><span class=\"terms\">Term of Office:</span> 26 January, 1950 to 13 May, 1962</p>\n",
       "</div>\n",
       "</li></ul>"
      ]
     },
     "execution_count": 16,
     "metadata": {},
     "output_type": "execute_result"
    }
   ],
   "source": [
    "ul = soup.find('ul' , {\"class\":\"listing cf\"})\n",
    "ul"
   ]
  },
  {
   "cell_type": "code",
   "execution_count": 63,
   "id": "4f785ffa",
   "metadata": {},
   "outputs": [
    {
     "name": "stdout",
     "output_type": "stream",
     "text": [
      "['Shri Ram Nath Kovind (birth - 1945)\\nTerm of Office: 25 July, 2017 to 25 July, 2022 \\nhttps://ramnathkovind.nic.in', 'Shri Pranab Mukherjee (1935-2020)\\nTerm of Office: 25 July, 2012 to 25 July, 2017 \\nhttp://pranabmukherjee.nic.in', 'Smt Pratibha Devisingh Patil (birth - 1934)\\nTerm of Office: 25 July, 2007 to 25 July, 2012 \\nhttp://pratibhapatil.nic.in', 'DR. A.P.J. Abdul Kalam (1931-2015)\\nTerm of Office: 25 July, 2002 to 25 July, 2007 \\nhttp://abdulkalam.nic.in', 'Shri K. R. Narayanan (1920 - 2005)\\nTerm of Office: 25 July, 1997 to 25 July, 2002', 'Dr Shankar Dayal Sharma (1918-1999)\\nTerm of Office: 25 July, 1992 to 25 July, 1997', 'Shri R Venkataraman (1910-2009)\\nTerm of Office: 25 July, 1987 to 25 July, 1992', 'Giani Zail Singh (1916-1994)\\nTerm of Office: 25 July, 1982 to 25 July, 1987', 'Shri Neelam Sanjiva Reddy (1913-1996)\\nTerm of Office: 25 July, 1977 to 25 July, 1982', 'Dr. Fakhruddin Ali Ahmed (1905-1977)\\nTerm of Office: 24 August, 1974 to 11 February, 1977', 'Shri Varahagiri Venkata Giri (1894-1980)\\nTerm of Office: 3 May, 1969 to 20 July, 1969 and 24 August, 1969 to 24 August, 1974', 'Dr. Zakir Husain (1897-1969)\\nTerm of Office: 13 May, 1967 to 3 May, 1969', 'Dr. Sarvepalli Radhakrishnan (1888-1975)\\nTerm of Office: 13 May, 1962 to 13 May, 1967', 'Dr. Rajendra Prasad (1884-1963) \\nTerm of Office: 26 January, 1950 to 13 May, 1962']\n"
     ]
    }
   ],
   "source": [
    "name=[]\n",
    "for i in soup.find_all(\"div\",{\"class\":\"presidentListing\"}):\n",
    "    \n",
    "    name.append(i.text.strip())\n",
    "print(name)\n"
   ]
  },
  {
   "cell_type": "code",
   "execution_count": 53,
   "id": "5e9e687a",
   "metadata": {},
   "outputs": [
    {
     "data": {
      "text/html": [
       "<div>\n",
       "<style scoped>\n",
       "    .dataframe tbody tr th:only-of-type {\n",
       "        vertical-align: middle;\n",
       "    }\n",
       "\n",
       "    .dataframe tbody tr th {\n",
       "        vertical-align: top;\n",
       "    }\n",
       "\n",
       "    .dataframe thead th {\n",
       "        text-align: right;\n",
       "    }\n",
       "</style>\n",
       "<table border=\"1\" class=\"dataframe\">\n",
       "  <thead>\n",
       "    <tr style=\"text-align: right;\">\n",
       "      <th></th>\n",
       "      <th>name</th>\n",
       "    </tr>\n",
       "  </thead>\n",
       "  <tbody>\n",
       "    <tr>\n",
       "      <th>0</th>\n",
       "      <td>Shri Ram Nath Kovind (birth - 1945)\\nTerm of O...</td>\n",
       "    </tr>\n",
       "    <tr>\n",
       "      <th>1</th>\n",
       "      <td>Shri Pranab Mukherjee (1935-2020)\\nTerm of Off...</td>\n",
       "    </tr>\n",
       "    <tr>\n",
       "      <th>2</th>\n",
       "      <td>Smt Pratibha Devisingh Patil (birth - 1934)\\nT...</td>\n",
       "    </tr>\n",
       "    <tr>\n",
       "      <th>3</th>\n",
       "      <td>DR. A.P.J. Abdul Kalam (1931-2015)\\nTerm of Of...</td>\n",
       "    </tr>\n",
       "    <tr>\n",
       "      <th>4</th>\n",
       "      <td>Shri K. R. Narayanan (1920 - 2005)\\nTerm of Of...</td>\n",
       "    </tr>\n",
       "    <tr>\n",
       "      <th>5</th>\n",
       "      <td>Dr Shankar Dayal Sharma (1918-1999)\\nTerm of O...</td>\n",
       "    </tr>\n",
       "    <tr>\n",
       "      <th>6</th>\n",
       "      <td>Shri R Venkataraman (1910-2009)\\nTerm of Offic...</td>\n",
       "    </tr>\n",
       "    <tr>\n",
       "      <th>7</th>\n",
       "      <td>Giani Zail Singh (1916-1994)\\nTerm of Office: ...</td>\n",
       "    </tr>\n",
       "    <tr>\n",
       "      <th>8</th>\n",
       "      <td>Shri Neelam Sanjiva Reddy (1913-1996)\\nTerm of...</td>\n",
       "    </tr>\n",
       "    <tr>\n",
       "      <th>9</th>\n",
       "      <td>Dr. Fakhruddin Ali Ahmed (1905-1977)\\nTerm of ...</td>\n",
       "    </tr>\n",
       "    <tr>\n",
       "      <th>10</th>\n",
       "      <td>Shri Varahagiri Venkata Giri (1894-1980)\\nTerm...</td>\n",
       "    </tr>\n",
       "    <tr>\n",
       "      <th>11</th>\n",
       "      <td>Dr. Zakir Husain (1897-1969)\\nTerm of Office: ...</td>\n",
       "    </tr>\n",
       "    <tr>\n",
       "      <th>12</th>\n",
       "      <td>Dr. Sarvepalli Radhakrishnan (1888-1975)\\nTerm...</td>\n",
       "    </tr>\n",
       "    <tr>\n",
       "      <th>13</th>\n",
       "      <td>Dr. Rajendra Prasad (1884-1963) \\nTerm of Offi...</td>\n",
       "    </tr>\n",
       "  </tbody>\n",
       "</table>\n",
       "</div>"
      ],
      "text/plain": [
       "                                                 name\n",
       "0   Shri Ram Nath Kovind (birth - 1945)\\nTerm of O...\n",
       "1   Shri Pranab Mukherjee (1935-2020)\\nTerm of Off...\n",
       "2   Smt Pratibha Devisingh Patil (birth - 1934)\\nT...\n",
       "3   DR. A.P.J. Abdul Kalam (1931-2015)\\nTerm of Of...\n",
       "4   Shri K. R. Narayanan (1920 - 2005)\\nTerm of Of...\n",
       "5   Dr Shankar Dayal Sharma (1918-1999)\\nTerm of O...\n",
       "6   Shri R Venkataraman (1910-2009)\\nTerm of Offic...\n",
       "7   Giani Zail Singh (1916-1994)\\nTerm of Office: ...\n",
       "8   Shri Neelam Sanjiva Reddy (1913-1996)\\nTerm of...\n",
       "9   Dr. Fakhruddin Ali Ahmed (1905-1977)\\nTerm of ...\n",
       "10  Shri Varahagiri Venkata Giri (1894-1980)\\nTerm...\n",
       "11  Dr. Zakir Husain (1897-1969)\\nTerm of Office: ...\n",
       "12  Dr. Sarvepalli Radhakrishnan (1888-1975)\\nTerm...\n",
       "13  Dr. Rajendra Prasad (1884-1963) \\nTerm of Offi..."
      ]
     },
     "execution_count": 53,
     "metadata": {},
     "output_type": "execute_result"
    }
   ],
   "source": [
    "df = pd.DataFrame(name, columns=['name'])\n",
    "df"
   ]
  },
  {
   "cell_type": "code",
   "execution_count": null,
   "id": "317d74a9",
   "metadata": {},
   "outputs": [],
   "source": []
  }
 ],
 "metadata": {
  "kernelspec": {
   "display_name": "Python 3 (ipykernel)",
   "language": "python",
   "name": "python3"
  },
  "language_info": {
   "codemirror_mode": {
    "name": "ipython",
    "version": 3
   },
   "file_extension": ".py",
   "mimetype": "text/x-python",
   "name": "python",
   "nbconvert_exporter": "python",
   "pygments_lexer": "ipython3",
   "version": "3.9.12"
  }
 },
 "nbformat": 4,
 "nbformat_minor": 5
}
